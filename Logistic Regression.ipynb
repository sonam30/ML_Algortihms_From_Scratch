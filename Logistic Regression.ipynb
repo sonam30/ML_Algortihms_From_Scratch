{
 "cells": [
  {
   "cell_type": "code",
   "execution_count": 2,
   "metadata": {},
   "outputs": [
    {
     "name": "stderr",
     "output_type": "stream",
     "text": [
      "C:\\ProgramData\\Anaconda3\\lib\\importlib\\_bootstrap.py:219: RuntimeWarning: numpy.ufunc size changed, may indicate binary incompatibility. Expected 192 from C header, got 216 from PyObject\n",
      "  return f(*args, **kwds)\n"
     ]
    }
   ],
   "source": [
    "import numpy as np\n",
    "from sklearn import datasets\n",
    "from sklearn.model_selection import train_test_split\n",
    "import matplotlib.pyplot as plt\n",
    "%matplotlib inline"
   ]
  },
  {
   "cell_type": "code",
   "execution_count": 27,
   "metadata": {},
   "outputs": [],
   "source": [
    "# X,y=datasets.make_classification(n_samples=100,n_features=2,n_classes=2, n_informative=2, \n",
    "#                                  n_redundant=0, n_repeated=0,random_state=4)\n",
    "bc=datasets.load_breast_cancer()\n",
    "X,y=bc.data, bc.target"
   ]
  },
  {
   "cell_type": "code",
   "execution_count": 28,
   "metadata": {},
   "outputs": [],
   "source": [
    "x_train,x_test,y_train,y_test=train_test_split(X, y, random_state=100)"
   ]
  },
  {
   "cell_type": "code",
   "execution_count": 56,
   "metadata": {},
   "outputs": [],
   "source": [
    "class LogisticRegression():\n",
    "    def __init__(self, lr=0.1, n_iter=1000):\n",
    "        self.lr=lr\n",
    "        self.n_iter=n_iter\n",
    "        self.weights=None\n",
    "        self.bias=None\n",
    "    \n",
    "    \n",
    "    def fit(self,x,y):\n",
    "        n_sample,n_feature = x.shape\n",
    "        self.weights=np.zeros(n_feature)\n",
    "        self.bias=0\n",
    "        \n",
    "        for _ in range(self.n_iter):\n",
    "            linear_model=np.dot(x,self.weights)+self.bias\n",
    "            y_predicted=self.sigmoid(linear_model)\n",
    "            dw=(1/n_sample)*np.dot(x.T,(y_predicted-y))\n",
    "            db=(1/n_sample)*np.sum(y_predicted-y)\n",
    "            \n",
    "            self.weights-=self.lr*dw\n",
    "            self.bias=self.lr*db\n",
    "    \n",
    "    def predict(self,x):\n",
    "        linear_model=np.dot(x,self.weights)+self.bias\n",
    "        y_predicted=self.sigmoid(linear_model)\n",
    "        y_pre_cls=[1 if i>0.5 else 0 for i in y_predicted]\n",
    "        return(y_pre_cls)\n",
    "    \n",
    "    def sigmoid(self,x):\n",
    "        return(1/(1+np.exp(-x)))\n",
    "    "
   ]
  },
  {
   "cell_type": "code",
   "execution_count": 57,
   "metadata": {},
   "outputs": [],
   "source": [
    "def Accuracy_score(y_true,y_pred):\n",
    "    accuracy=np.sum(y_true==y_pred)/len(y_true)\n",
    "    return accuracy"
   ]
  },
  {
   "cell_type": "code",
   "execution_count": 58,
   "metadata": {},
   "outputs": [
    {
     "name": "stderr",
     "output_type": "stream",
     "text": [
      "C:\\ProgramData\\Anaconda3\\lib\\site-packages\\ipykernel_launcher.py:30: RuntimeWarning: overflow encountered in exp\n"
     ]
    }
   ],
   "source": [
    "model=LogisticRegression()\n",
    "model.fit(x_train,y_train)\n",
    "y_p=model.predict(x_test)"
   ]
  },
  {
   "cell_type": "code",
   "execution_count": 59,
   "metadata": {},
   "outputs": [],
   "source": [
    "accuracy=Accuracy_score(y_test,y_p)"
   ]
  },
  {
   "cell_type": "code",
   "execution_count": 60,
   "metadata": {},
   "outputs": [
    {
     "data": {
      "text/plain": [
       "0.8881118881118881"
      ]
     },
     "execution_count": 60,
     "metadata": {},
     "output_type": "execute_result"
    }
   ],
   "source": [
    "accuracy"
   ]
  },
  {
   "cell_type": "code",
   "execution_count": null,
   "metadata": {},
   "outputs": [],
   "source": []
  }
 ],
 "metadata": {
  "kernelspec": {
   "display_name": "Python 3",
   "language": "python",
   "name": "python3"
  },
  "language_info": {
   "codemirror_mode": {
    "name": "ipython",
    "version": 3
   },
   "file_extension": ".py",
   "mimetype": "text/x-python",
   "name": "python",
   "nbconvert_exporter": "python",
   "pygments_lexer": "ipython3",
   "version": "3.7.6"
  }
 },
 "nbformat": 4,
 "nbformat_minor": 4
}
